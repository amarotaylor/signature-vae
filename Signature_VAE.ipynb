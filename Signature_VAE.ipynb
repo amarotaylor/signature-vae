{
 "cells": [
  {
   "cell_type": "code",
   "execution_count": null,
   "metadata": {},
   "outputs": [],
   "source": [
    "#\n",
    "import tensorflow as tf\n",
    "import numpy as np\n",
    "import matplotlib.pyplot as plt\n",
    "%matplotlib inline"
   ]
  },
  {
   "cell_type": "code",
   "execution_count": null,
   "metadata": {},
   "outputs": [],
   "source": [
    "#I will need these functions\n",
    "fd = tf.contrib.distributions\n",
    "\n",
    "#switch to convolutional\n",
    "def make_encoder(data, code_size):\n",
    "    x = tf.layers.flatten(data)\n",
    "    x = tf.layers.dense(x, 200, tf.nn.relu)\n",
    "    x = tf.layers.dense(x, 200, tf.nn.relu) # encode data \n",
    "    loc = tf.layers.dense(x, code_size) # generate latent layer mean \n",
    "    #code_size defines the number of latent parameters\n",
    "    scale = tf.layers.dense(x, code_size, tf.nn.softplus) # latent layer sigma\n",
    "    return tfd.MultivariateNormalDiag(loc, scale)\n",
    "\n",
    "# set prior using independent-MVN \n",
    "def make_prior(code_size):\n",
    "    loc = tf.zeros(code_size)\n",
    "    scale = tf.ones(code_size)\n",
    "    return tfd.MultivariateNormalDiag(loc, scale)\n",
    "\n",
    "\n",
    "# generate data from latent \"code\" space\n",
    "def make_decoder(code, data_shape):\n",
    "    x = code\n",
    "    x = tf.layers.dense(x, 200, tf.nn.relu)\n",
    "    x = tf.layers.dense(x, 200, tf.nn.relu)\n",
    "    logit = tf.layers.dense(x, np.prod(data_shape)) \n",
    "    logit = tf.reshape(logit, [-1] + data_shape) # generate an image the size of the data\n",
    "    return tfd.Independent(tfd.Bernoulli(logit), 2) # change to binary (training is MINST data set)\n",
    "\n",
    "\n",
    "def plot_codes(ax, codes, labels):\n",
    "    ax.scatter(codes[:, 0], codes[:, 1], s=2, c=labels, alpha=0.1)\n",
    "    ax.set_aspect('equal')\n",
    "    ax.set_xlim(codes.min() - .1, codes.max() + .1)\n",
    "    ax.set_ylim(codes.min() - .1, codes.max() + .1)\n",
    "    ax.tick_params(\n",
    "      axis='both', which='both', left='off', bottom='off',\n",
    "      labelleft='off', labelbottom='off')\n",
    "def plot_samples(ax, samples):\n",
    "      for index, sample in enumerate(samples):\n",
    "        ax[index].imshow(sample, cmap='gray')\n",
    "        ax[index].axis('off')"
   ]
  }
 ],
 "metadata": {
  "kernelspec": {
   "display_name": "Python 2",
   "language": "python",
   "name": "python2"
  },
  "language_info": {
   "codemirror_mode": {
    "name": "ipython",
    "version": 2
   },
   "file_extension": ".py",
   "mimetype": "text/x-python",
   "name": "python",
   "nbconvert_exporter": "python",
   "pygments_lexer": "ipython2",
   "version": "2.7.12"
  }
 },
 "nbformat": 4,
 "nbformat_minor": 2
}
