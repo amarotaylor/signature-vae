{
 "cells": [
  {
   "cell_type": "code",
   "execution_count": 1,
   "metadata": {},
   "outputs": [
    {
     "name": "stdout",
     "output_type": "stream",
     "text": [
      "WARNING:tensorflow:From /home/amaro/tensorflow/local/lib/python2.7/site-packages/tensorflow/contrib/learn/python/learn/datasets/base.py:198: retry (from tensorflow.contrib.learn.python.learn.datasets.base) is deprecated and will be removed in a future version.\n",
      "Instructions for updating:\n",
      "Use the retry module or similar alternatives.\n"
     ]
    }
   ],
   "source": [
    "#\n",
    "import tensorflow as tf\n",
    "import numpy as np\n",
    "import matplotlib.pyplot as plt\n",
    "from tensorflow.examples.tutorials.mnist import input_data\n",
    "%matplotlib inline\n"
   ]
  },
  {
   "cell_type": "code",
   "execution_count": 10,
   "metadata": {},
   "outputs": [],
   "source": [
    "#source : https://danijar.com/building-variational-auto-encoders-in-tensorflow/\n",
    "tfd = tf.contrib.distributions\n",
    "\n",
    "def make_encoder(data, code_size):\n",
    "    x = tf.layers.flatten(data)\n",
    "    x = tf.layers.dense(x, 200, tf.nn.relu)\n",
    "    x = tf.layers.dense(x, 200, tf.nn.relu) # encode data \n",
    "    loc = tf.layers.dense(x, code_size) # generate latent layer mean \n",
    "    #code_size defines the number of latent parameters\n",
    "    scale = tf.layers.dense(x, code_size, tf.nn.softplus) # latent layer sigma\n",
    "    return tfd.MultivariateNormalDiag(loc, scale)\n",
    "\n",
    "# set prior using independent-MVN \n",
    "def make_prior(code_size):\n",
    "    loc = tf.zeros(code_size)\n",
    "    scale = tf.ones(code_size)\n",
    "    return tfd.MultivariateNormalDiag(loc, scale)\n",
    "\n",
    "\n",
    "# generate data from latent \"code\" space\n",
    "def make_decoder(code, data_shape):\n",
    "    x = code\n",
    "    x = tf.layers.dense(x, 200, tf.nn.relu)\n",
    "    x = tf.layers.dense(x, 200, tf.nn.relu)\n",
    "    logit = tf.layers.dense(x, np.prod(data_shape)) \n",
    "    logit = tf.reshape(logit, [-1] + data_shape) # generate an image the size of the data\n",
    "    return tfd.Independent(tfd.Bernoulli(logit), 2) # change to binary (training is MINST data set)\n",
    "\n",
    "\n",
    "def plot_codes(ax, codes, labels):\n",
    "    ax.scatter(codes[:, 0], codes[:, 1], s=2, c=labels, alpha=0.1)\n",
    "    ax.set_aspect('equal')\n",
    "    ax.set_xlim(codes.min() - .1, codes.max() + .1)\n",
    "    ax.set_ylim(codes.min() - .1, codes.max() + .1)\n",
    "    ax.tick_params(\n",
    "      axis='both', which='both', left='off', bottom='off',\n",
    "      labelleft='off', labelbottom='off')\n",
    "def plot_samples(ax, samples):\n",
    "      for index, sample in enumerate(samples):\n",
    "        ax[index].imshow(sample, cmap='gray')\n",
    "        ax[index].axis('off')"
   ]
  },
  {
   "cell_type": "code",
   "execution_count": 3,
   "metadata": {},
   "outputs": [],
   "source": [
    "# data place holder\n",
    "data = tf.placeholder(tf.float32, [None, 28, 28])\n",
    "\n",
    "# save encode and decoder pieces for later use\n",
    "make_encoder = tf.make_template('encoder', make_encoder)\n",
    "make_decoder = tf.make_template('decoder', make_decoder)"
   ]
  },
  {
   "cell_type": "code",
   "execution_count": 4,
   "metadata": {},
   "outputs": [],
   "source": [
    "\n",
    "# the model\n",
    "prior = make_prior(code_size=2)\n",
    "posterior = make_encoder(data, code_size=2)\n",
    "code = posterior.sample()\n",
    "\n",
    "# loss function -KL_divergence + likelihood of the input image | bernoulli results\n",
    "likelihood = make_decoder(code, [28, 28]).log_prob(data)\n",
    "divergence = tfd.kl_divergence(posterior, prior)\n",
    "elbo = tf.reduce_mean(likelihood - divergence)\n",
    "\n",
    "optimize = tf.train.AdamOptimizer(0.001).minimize(-elbo)"
   ]
  },
  {
   "cell_type": "code",
   "execution_count": 5,
   "metadata": {},
   "outputs": [],
   "source": [
    "samples = make_decoder(prior.sample(10), [28, 28]).mean()"
   ]
  },
  {
   "cell_type": "code",
   "execution_count": 6,
   "metadata": {},
   "outputs": [
    {
     "name": "stdout",
     "output_type": "stream",
     "text": [
      "WARNING:tensorflow:From <ipython-input-6-0a42e23024af>:1: read_data_sets (from tensorflow.contrib.learn.python.learn.datasets.mnist) is deprecated and will be removed in a future version.\n",
      "Instructions for updating:\n",
      "Please use alternatives such as official/mnist/dataset.py from tensorflow/models.\n",
      "WARNING:tensorflow:From /home/amaro/tensorflow/local/lib/python2.7/site-packages/tensorflow/contrib/learn/python/learn/datasets/mnist.py:260: maybe_download (from tensorflow.contrib.learn.python.learn.datasets.base) is deprecated and will be removed in a future version.\n",
      "Instructions for updating:\n",
      "Please write your own downloading logic.\n",
      "WARNING:tensorflow:From /home/amaro/tensorflow/local/lib/python2.7/site-packages/tensorflow/contrib/learn/python/learn/datasets/mnist.py:262: extract_images (from tensorflow.contrib.learn.python.learn.datasets.mnist) is deprecated and will be removed in a future version.\n",
      "Instructions for updating:\n",
      "Please use tf.data to implement this functionality.\n",
      "Extracting MNIST_data/train-images-idx3-ubyte.gz\n",
      "WARNING:tensorflow:From /home/amaro/tensorflow/local/lib/python2.7/site-packages/tensorflow/contrib/learn/python/learn/datasets/mnist.py:267: extract_labels (from tensorflow.contrib.learn.python.learn.datasets.mnist) is deprecated and will be removed in a future version.\n",
      "Instructions for updating:\n",
      "Please use tf.data to implement this functionality.\n",
      "Extracting MNIST_data/train-labels-idx1-ubyte.gz\n",
      "Extracting MNIST_data/t10k-images-idx3-ubyte.gz\n",
      "Extracting MNIST_data/t10k-labels-idx1-ubyte.gz\n",
      "WARNING:tensorflow:From /home/amaro/tensorflow/local/lib/python2.7/site-packages/tensorflow/contrib/learn/python/learn/datasets/mnist.py:290: __init__ (from tensorflow.contrib.learn.python.learn.datasets.mnist) is deprecated and will be removed in a future version.\n",
      "Instructions for updating:\n",
      "Please use alternatives such as official/mnist/dataset.py from tensorflow/models.\n"
     ]
    }
   ],
   "source": [
    "mnist = input_data.read_data_sets('MNIST_data/')"
   ]
  },
  {
   "cell_type": "code",
   "execution_count": 21,
   "metadata": {},
   "outputs": [
    {
     "name": "stdout",
     "output_type": "stream",
     "text": [
      "INFO:tensorflow:Graph was finalized.\n",
      "INFO:tensorflow:Running local_init_op.\n",
      "INFO:tensorflow:Done running local_init_op.\n",
      "('Epoch', 0, 'elbo', -543.9448)\n",
      "('Epoch', 1, 'elbo', -171.32977)\n",
      "('Epoch', 2, 'elbo', -164.96262)\n",
      "('Epoch', 3, 'elbo', -159.54324)\n",
      "('Epoch', 4, 'elbo', -156.39575)\n",
      "('Epoch', 5, 'elbo', -153.98709)\n",
      "('Epoch', 6, 'elbo', -152.48357)\n",
      "('Epoch', 7, 'elbo', -151.24367)\n",
      "('Epoch', 8, 'elbo', -150.05258)\n",
      "('Epoch', 9, 'elbo', -150.09666)\n",
      "('Epoch', 10, 'elbo', -148.39003)\n",
      "('Epoch', 11, 'elbo', -148.14943)\n",
      "('Epoch', 12, 'elbo', -146.74928)\n",
      "('Epoch', 13, 'elbo', -146.9922)\n",
      "('Epoch', 14, 'elbo', -145.93878)\n",
      "('Epoch', 15, 'elbo', -145.76318)\n",
      "('Epoch', 16, 'elbo', -144.85304)\n",
      "('Epoch', 17, 'elbo', -144.91638)\n",
      "('Epoch', 18, 'elbo', -144.57617)\n",
      "('Epoch', 19, 'elbo', -144.3329)\n",
      "('Epoch', 20, 'elbo', -144.15837)\n",
      "('Epoch', 21, 'elbo', -143.77628)\n",
      "('Epoch', 22, 'elbo', -143.5013)\n",
      "('Epoch', 23, 'elbo', -143.44951)\n",
      "('Epoch', 24, 'elbo', -143.28117)\n",
      "('Epoch', 25, 'elbo', -143.16707)\n",
      "('Epoch', 26, 'elbo', -143.04352)\n",
      "('Epoch', 27, 'elbo', -142.92865)\n",
      "('Epoch', 28, 'elbo', -142.30482)\n",
      "('Epoch', 29, 'elbo', -142.6152)\n",
      "('Epoch', 30, 'elbo', -142.36157)\n",
      "('Epoch', 31, 'elbo', -142.23738)\n",
      "('Epoch', 32, 'elbo', -142.15869)\n",
      "('Epoch', 33, 'elbo', -142.25641)\n",
      "('Epoch', 34, 'elbo', -141.6947)\n",
      "('Epoch', 35, 'elbo', -141.90048)\n",
      "('Epoch', 36, 'elbo', -141.9996)\n",
      "('Epoch', 37, 'elbo', -141.56528)\n",
      "('Epoch', 38, 'elbo', -141.36632)\n",
      "('Epoch', 39, 'elbo', -141.61253)\n"
     ]
    }
   ],
   "source": [
    "with tf.train.MonitoredSession() as sess:\n",
    "    for epoch in range(40):\n",
    "        feed = {data: mnist.test.images.reshape([-1, 28, 28])}\n",
    "        test_elbo, test_codes, test_samples = sess.run([elbo, code, samples], feed)\n",
    "        print('Epoch', epoch, 'elbo', test_elbo)\n",
    "        for _ in range(600):\n",
    "            feed = {data: mnist.train.next_batch(100)[0].reshape([-1, 28, 28])}\n",
    "            sess.run(optimize, feed)"
   ]
  },
  {
   "cell_type": "code",
   "execution_count": 22,
   "metadata": {},
   "outputs": [
    {
     "data": {
      "image/png": "[encoded data removed]",
      "text/plain": [
       "<Figure size 432x288 with 11 Axes>"
      ]
     },
     "metadata": {},
     "output_type": "display_data"
    }
   ],
   "source": [
    "fig, ax = plt.subplots(nrows=1, ncols=11)\n",
    "plot_codes(ax[0], test_codes, mnist.test.labels)\n",
    "plot_samples(ax[1:], test_samples)\n"
   ]
  },
  {
   "cell_type": "code",
   "execution_count": null,
   "metadata": {},
   "outputs": [],
   "source": []
  }
 ],
 "metadata": {
  "kernelspec": {
   "display_name": "Python 2",
   "language": "python",
   "name": "python2"
  },
  "language_info": {
   "codemirror_mode": {
    "name": "ipython",
    "version": 2
   },
   "file_extension": ".py",
   "mimetype": "text/x-python",
   "name": "python",
   "nbconvert_exporter": "python",
   "pygments_lexer": "ipython2",
   "version": "2.7.12"
  }
 },
 "nbformat": 4,
 "nbformat_minor": 2
}
